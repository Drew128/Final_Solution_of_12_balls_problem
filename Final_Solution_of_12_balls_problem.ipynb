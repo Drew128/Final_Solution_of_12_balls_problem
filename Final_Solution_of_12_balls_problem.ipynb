{
  "nbformat": 4,
  "nbformat_minor": 0,
  "metadata": {
    "colab": {
      "name": "Final_Solution_of_12_balls_problem.ipynb",
      "provenance": [],
      "collapsed_sections": [],
      "include_colab_link": true
    },
    "kernelspec": {
      "name": "python3",
      "display_name": "Python 3"
    }
  },
  "cells": [
    {
      "cell_type": "markdown",
      "metadata": {
        "id": "view-in-github",
        "colab_type": "text"
      },
      "source": [
        "<a href=\"https://colab.research.google.com/github/Drew128/Final_Solution_of_12_balls_problem/blob/master/Final_Solution_of_12_balls_problem.ipynb\" target=\"_parent\"><img src=\"https://colab.research.google.com/assets/colab-badge.svg\" alt=\"Open In Colab\"/></a>"
      ]
    },
    {
      "cell_type": "markdown",
      "metadata": {
        "id": "nrhrCduU9URL",
        "colab_type": "text"
      },
      "source": [
        "\n",
        "#Final Solution of 12 balls problem\n",
        "There is something like an interview task that I could not solve on a piece of paper. That`s why I want to use some greedy method, brute force, etc.\n",
        "\n",
        "So, there are 12 balls, one of which has a different weight. There are also scales with bowls and 3 weighings."
      ]
    },
    {
      "cell_type": "code",
      "metadata": {
        "id": "tPHEV6lE9wkd",
        "colab_type": "code",
        "colab": {}
      },
      "source": [
        "from collections import Counter\n",
        "import math\n",
        "import numpy as np\n",
        "from collections import defaultdict"
      ],
      "execution_count": 0,
      "outputs": []
    },
    {
      "cell_type": "markdown",
      "metadata": {
        "id": "RU-EFde3ExVG",
        "colab_type": "text"
      },
      "source": [
        "It looks like we have 24 options of the location of the anomalous ball, considering that we don't know it is easier or heavier than the others."
      ]
    },
    {
      "cell_type": "code",
      "metadata": {
        "id": "PgkeN_cV8Ggz",
        "colab_type": "code",
        "outputId": "f742a914-341c-4d23-d851-5d2f2563c37e",
        "colab": {
          "base_uri": "https://localhost:8080/",
          "height": 453
        }
      },
      "source": [
        "matrix = []\n",
        "for sign in (-1, 1):\n",
        "    for position in range(12):\n",
        "        matrix.append([sign if i == position else 0 for i in range(12)])\n",
        "\n",
        "variants = np.array(matrix)\n",
        "[[i, v] for i, v in enumerate(matrix)]"
      ],
      "execution_count": 2,
      "outputs": [
        {
          "output_type": "execute_result",
          "data": {
            "text/plain": [
              "[[0, [-1, 0, 0, 0, 0, 0, 0, 0, 0, 0, 0, 0]],\n",
              " [1, [0, -1, 0, 0, 0, 0, 0, 0, 0, 0, 0, 0]],\n",
              " [2, [0, 0, -1, 0, 0, 0, 0, 0, 0, 0, 0, 0]],\n",
              " [3, [0, 0, 0, -1, 0, 0, 0, 0, 0, 0, 0, 0]],\n",
              " [4, [0, 0, 0, 0, -1, 0, 0, 0, 0, 0, 0, 0]],\n",
              " [5, [0, 0, 0, 0, 0, -1, 0, 0, 0, 0, 0, 0]],\n",
              " [6, [0, 0, 0, 0, 0, 0, -1, 0, 0, 0, 0, 0]],\n",
              " [7, [0, 0, 0, 0, 0, 0, 0, -1, 0, 0, 0, 0]],\n",
              " [8, [0, 0, 0, 0, 0, 0, 0, 0, -1, 0, 0, 0]],\n",
              " [9, [0, 0, 0, 0, 0, 0, 0, 0, 0, -1, 0, 0]],\n",
              " [10, [0, 0, 0, 0, 0, 0, 0, 0, 0, 0, -1, 0]],\n",
              " [11, [0, 0, 0, 0, 0, 0, 0, 0, 0, 0, 0, -1]],\n",
              " [12, [1, 0, 0, 0, 0, 0, 0, 0, 0, 0, 0, 0]],\n",
              " [13, [0, 1, 0, 0, 0, 0, 0, 0, 0, 0, 0, 0]],\n",
              " [14, [0, 0, 1, 0, 0, 0, 0, 0, 0, 0, 0, 0]],\n",
              " [15, [0, 0, 0, 1, 0, 0, 0, 0, 0, 0, 0, 0]],\n",
              " [16, [0, 0, 0, 0, 1, 0, 0, 0, 0, 0, 0, 0]],\n",
              " [17, [0, 0, 0, 0, 0, 1, 0, 0, 0, 0, 0, 0]],\n",
              " [18, [0, 0, 0, 0, 0, 0, 1, 0, 0, 0, 0, 0]],\n",
              " [19, [0, 0, 0, 0, 0, 0, 0, 1, 0, 0, 0, 0]],\n",
              " [20, [0, 0, 0, 0, 0, 0, 0, 0, 1, 0, 0, 0]],\n",
              " [21, [0, 0, 0, 0, 0, 0, 0, 0, 0, 1, 0, 0]],\n",
              " [22, [0, 0, 0, 0, 0, 0, 0, 0, 0, 0, 1, 0]],\n",
              " [23, [0, 0, 0, 0, 0, 0, 0, 0, 0, 0, 0, 1]]]"
            ]
          },
          "metadata": {
            "tags": []
          },
          "execution_count": 2
        }
      ]
    },
    {
      "cell_type": "markdown",
      "metadata": {
        "id": "aWpMezGoIKFh",
        "colab_type": "text"
      },
      "source": [
        "Let's try to assess whether this problem has a solution.\n",
        "\n",
        "Scales with bowls give 3 different answers at each step: ['<', '>', '=']\n",
        "\n",
        "Thus, the decision tree will have 3 ^ 3 = 27 options, for deciding 24 options for the location of the ball should be enough."
      ]
    },
    {
      "cell_type": "code",
      "metadata": {
        "id": "eZHFtsAA89Mo",
        "colab_type": "code",
        "colab": {}
      },
      "source": [
        "def scales(subset1, subset2, option):\n",
        "    if sum(variants[option][subset1]) < sum(variants[option][subset2]):\n",
        "        return '<'\n",
        "    if sum(variants[option][subset1]) > sum(variants[option][subset2]):\n",
        "        return '>'\n",
        "    if sum(variants[option][subset1]) == sum(variants[option][subset2]):\n",
        "        return '='"
      ],
      "execution_count": 0,
      "outputs": []
    },
    {
      "cell_type": "code",
      "metadata": {
        "id": "kisqGwYlJ24R",
        "colab_type": "code",
        "outputId": "5d7a043c-b4c3-456f-9a56-8ebb816493a7",
        "colab": {
          "base_uri": "https://localhost:8080/",
          "height": 35
        }
      },
      "source": [
        "# Check how the scales works for the option #18 [0, 0, 0, 0, 0, 0, 1, 0, 0, 0, 0, 0]\n",
        "\n",
        "scales([0, 1, 2, 3, 4, 5], [6, 7, 8, 9, 10, 11], 18)"
      ],
      "execution_count": 6,
      "outputs": [
        {
          "output_type": "execute_result",
          "data": {
            "text/plain": [
              "'<'"
            ]
          },
          "metadata": {
            "tags": []
          },
          "execution_count": 6
        }
      ]
    },
    {
      "cell_type": "markdown",
      "metadata": {
        "id": "3HIgqaOILuc0",
        "colab_type": "text"
      },
      "source": [
        "The problem boils down to finding such a partitioning on the scales that gives maximum information at every step.\n",
        "\n",
        "In other words, it will split the sample as uniformly as possible between ['<', '>', '=']"
      ]
    },
    {
      "cell_type": "markdown",
      "metadata": {
        "id": "PrHqqsyuQm2x",
        "colab_type": "text"
      },
      "source": [
        "The partition function takes a split into groups (subsamples of ball indices) in the input and returns a some estimate of uniformity and the distribution of variants between signs when weighing."
      ]
    },
    {
      "cell_type": "code",
      "metadata": {
        "id": "ZCBlekX4PUSr",
        "colab_type": "code",
        "colab": {}
      },
      "source": [
        "def partition(dist):\n",
        "      c = Counter()\n",
        "      for i in range(24):\n",
        "          sign = scales(*dist, i)\n",
        "          c.update(sign)\n",
        "      uniformity_estimation = math.fabs(c['<']-c['='])+math.fabs(c['=']-c['>'])+math.fabs(c['<']-c['>'])\n",
        "      return uniformity_estimation, c"
      ],
      "execution_count": 0,
      "outputs": []
    },
    {
      "cell_type": "code",
      "metadata": {
        "id": "LThc1pPuOBdx",
        "colab_type": "code",
        "outputId": "e67805c0-5fbd-4be3-95b2-407d091c4773",
        "colab": {
          "base_uri": "https://localhost:8080/",
          "height": 35
        }
      },
      "source": [
        "partition([[0, 1, 2, 3, 4, 5], [6, 7, 8, 9, 10, 11]])"
      ],
      "execution_count": 8,
      "outputs": [
        {
          "output_type": "execute_result",
          "data": {
            "text/plain": [
              "(24.0, Counter({'<': 12, '>': 12}))"
            ]
          },
          "metadata": {
            "tags": []
          },
          "execution_count": 8
        }
      ]
    },
    {
      "cell_type": "markdown",
      "metadata": {
        "id": "SG9pcFnUWtZs",
        "colab_type": "text"
      },
      "source": [
        "The same function, but receives a list of partitions by the bowls at the input and returns options in each branch of the decision tree"
      ]
    },
    {
      "cell_type": "code",
      "metadata": {
        "id": "4Dv-hhmQKNDH",
        "colab_type": "code",
        "colab": {}
      },
      "source": [
        "def partitioning(distributions, options_left=range(24), estimation=range(37)):\n",
        "    for dist in distributions:\n",
        "        c = Counter()\n",
        "        v = defaultdict(list)\n",
        "        for i in range(24):\n",
        "            if i not in options_left: continue\n",
        "            sign = scales(*dist, i)\n",
        "            c.update(sign)\n",
        "            v[sign].append(i)\n",
        "        uniformity_estimation = math.fabs(c['<']-c['='])+math.fabs(c['=']-c['>'])+math.fabs(c['<']-c['>'])\n",
        "        if uniformity_estimation in estimation:\n",
        "            return uniformity_estimation, c, v, dist "
      ],
      "execution_count": 0,
      "outputs": []
    },
    {
      "cell_type": "code",
      "metadata": {
        "id": "v_FOs_7gUFuJ",
        "colab_type": "code",
        "outputId": "f453c481-9bd3-4c42-9a2e-248ae32f7d2d",
        "colab": {
          "base_uri": "https://localhost:8080/",
          "height": 126
        }
      },
      "source": [
        "partitioning([[[0, 1, 2, 3, 4, 5], [6, 7, 8, 9, 10, 11]]])\n"
      ],
      "execution_count": 10,
      "outputs": [
        {
          "output_type": "execute_result",
          "data": {
            "text/plain": [
              "(24.0,\n",
              " Counter({'<': 12, '>': 12}),\n",
              " defaultdict(list,\n",
              "             {'<': [0, 1, 2, 3, 4, 5, 18, 19, 20, 21, 22, 23],\n",
              "              '>': [6, 7, 8, 9, 10, 11, 12, 13, 14, 15, 16, 17]}),\n",
              " [[0, 1, 2, 3, 4, 5], [6, 7, 8, 9, 10, 11]])"
            ]
          },
          "metadata": {
            "tags": []
          },
          "execution_count": 10
        }
      ]
    },
    {
      "cell_type": "markdown",
      "metadata": {
        "id": "7xwdTTcMZZBr",
        "colab_type": "text"
      },
      "source": [
        "Before the first weighing, we do not know the state of the balls.\n",
        "\n",
        "Therefore, we are only interested in the size of the samples for choosing the best bowl division.\n",
        "\n",
        "Let's try different sample sizes."
      ]
    },
    {
      "cell_type": "code",
      "metadata": {
        "id": "wIUANDQFZlFs",
        "colab_type": "code",
        "outputId": "00d912eb-7252-4b53-ca09-0b0fa46ce60c",
        "colab": {
          "base_uri": "https://localhost:8080/",
          "height": 146
        }
      },
      "source": [
        "print(\" # 6\", partitioning([[[0, 1, 2, 3, 4, 5], [6, 7, 8, 9, 10, 11]]]))\n",
        "print(\" # 5\", partitioning([[[0, 1, 2, 3, 4],       [7, 8, 9, 10, 11]]]))\n",
        "print(\" # 4\", partitioning([[[0, 1, 2, 3],             [8, 9, 10, 11]]]))\n",
        "print(\" # 3\", partitioning([[[0, 1, 2],                   [9, 10, 11]]]))\n",
        "print(\" # 2\", partitioning([[[0, 1],                         [10, 11]]]))\n",
        "print(\" # 1\", partitioning([[[0],                                [11]]]))\n",
        "\n"
      ],
      "execution_count": 12,
      "outputs": [
        {
          "output_type": "stream",
          "text": [
            " # 6 (24.0, Counter({'<': 12, '>': 12}), defaultdict(<class 'list'>, {'<': [0, 1, 2, 3, 4, 5, 18, 19, 20, 21, 22, 23], '>': [6, 7, 8, 9, 10, 11, 12, 13, 14, 15, 16, 17]}), [[0, 1, 2, 3, 4, 5], [6, 7, 8, 9, 10, 11]])\n",
            " # 5 (12.0, Counter({'<': 10, '>': 10, '=': 4}), defaultdict(<class 'list'>, {'<': [0, 1, 2, 3, 4, 19, 20, 21, 22, 23], '=': [5, 6, 17, 18], '>': [7, 8, 9, 10, 11, 12, 13, 14, 15, 16]}), [[0, 1, 2, 3, 4], [7, 8, 9, 10, 11]])\n",
            " # 4 (0.0, Counter({'<': 8, '=': 8, '>': 8}), defaultdict(<class 'list'>, {'<': [0, 1, 2, 3, 20, 21, 22, 23], '=': [4, 5, 6, 7, 16, 17, 18, 19], '>': [8, 9, 10, 11, 12, 13, 14, 15]}), [[0, 1, 2, 3], [8, 9, 10, 11]])\n",
            " # 3 (12.0, Counter({'=': 12, '<': 6, '>': 6}), defaultdict(<class 'list'>, {'<': [0, 1, 2, 21, 22, 23], '=': [3, 4, 5, 6, 7, 8, 15, 16, 17, 18, 19, 20], '>': [9, 10, 11, 12, 13, 14]}), [[0, 1, 2], [9, 10, 11]])\n",
            " # 2 (24.0, Counter({'=': 16, '<': 4, '>': 4}), defaultdict(<class 'list'>, {'<': [0, 1, 22, 23], '=': [2, 3, 4, 5, 6, 7, 8, 9, 14, 15, 16, 17, 18, 19, 20, 21], '>': [10, 11, 12, 13]}), [[0, 1], [10, 11]])\n",
            " # 1 (36.0, Counter({'=': 20, '<': 2, '>': 2}), defaultdict(<class 'list'>, {'<': [0, 23], '=': [1, 2, 3, 4, 5, 6, 7, 8, 9, 10, 13, 14, 15, 16, 17, 18, 19, 20, 21, 22], '>': [11, 12]}), [[0], [11]])\n"
          ],
          "name": "stdout"
        }
      ]
    },
    {
      "cell_type": "markdown",
      "metadata": {
        "id": "xwMV-WCQbyx_",
        "colab_type": "text"
      },
      "source": [
        "It`s seems like sample size = 4 have a good estimation\n",
        "\n",
        "#It is brute force time\n",
        "Let's get ALL the samples with size 4"
      ]
    },
    {
      "cell_type": "code",
      "metadata": {
        "id": "cMMqDIFVai21",
        "colab_type": "code",
        "outputId": "e13ce03a-abd3-4dca-8eea-7a91c4ea61d3",
        "colab": {
          "base_uri": "https://localhost:8080/",
          "height": 90
        }
      },
      "source": [
        "combinations = []\n",
        "for i1 in range(12):\n",
        "    for i2 in range(12):\n",
        "        for i3 in range(12):\n",
        "            for i4 in range(12):\n",
        "                if len(set([i1, i2, i3, i4])) == 4 and sorted([i1, i2, i3, i4]) not in combinations:\n",
        "                    combinations.append(sorted([i1, i2, i3, i4]))\n",
        "\n",
        "[print(each) for each in combinations[-3:]]                    \n",
        "print(len(combinations))"
      ],
      "execution_count": 13,
      "outputs": [
        {
          "output_type": "stream",
          "text": [
            "[7, 8, 10, 11]\n",
            "[7, 9, 10, 11]\n",
            "[8, 9, 10, 11]\n",
            "495\n"
          ],
          "name": "stdout"
        }
      ]
    },
    {
      "cell_type": "markdown",
      "metadata": {
        "id": "AXmS8-5LeOdj",
        "colab_type": "text"
      },
      "source": [
        "...and all the options of two samples with size 4"
      ]
    },
    {
      "cell_type": "code",
      "metadata": {
        "id": "opO5USmLeduT",
        "colab_type": "code",
        "outputId": "a3ba0d46-e59c-4258-dc49-5a70dcf1e466",
        "colab": {
          "base_uri": "https://localhost:8080/",
          "height": 90
        }
      },
      "source": [
        "all_4_and_4_samples_option = []\n",
        "for a in combinations:\n",
        "    for b in combinations:\n",
        "        if len(set(a + b)) == 8:\n",
        "            all_4_and_4_samples_option.append([a, b])\n",
        "\n",
        "[print(each) for each in all_4_and_4_samples_option[-3:]]\n",
        "print(len(all_4_and_4_samples_option))"
      ],
      "execution_count": 14,
      "outputs": [
        {
          "output_type": "stream",
          "text": [
            "[[8, 9, 10, 11], [3, 4, 6, 7]]\n",
            "[[8, 9, 10, 11], [3, 5, 6, 7]]\n",
            "[[8, 9, 10, 11], [4, 5, 6, 7]]\n",
            "34650\n"
          ],
          "name": "stdout"
        }
      ]
    },
    {
      "cell_type": "markdown",
      "metadata": {
        "id": "8lhtikjVp-qb",
        "colab_type": "text"
      },
      "source": [
        "Now we will substitute all the partitioning options, stopping when the required quality is achieved. Then we select the splits in the next step ..."
      ]
    },
    {
      "cell_type": "code",
      "metadata": {
        "id": "cL4SkPhrgYDu",
        "colab_type": "code",
        "outputId": "3a16bab3-7415-40d3-e79c-b17b67bcc585",
        "colab": {
          "base_uri": "https://localhost:8080/",
          "height": 671
        }
      },
      "source": [
        "uniformity_estimation, counter1, options_by_signs1, used_distribution1 = partitioning(all_4_and_4_samples_option, estimation=range(3))\n",
        "for sign1 in options_by_signs1:\n",
        "    print(used_distribution1[0], sign1, used_distribution1[1], 'options_left=', options_by_signs1[sign1])\n",
        "    uniformity_estimation, counter2, options_by_signs2, used_distribution2 = partitioning(all_4_and_4_samples_option, options_left = options_by_signs1[sign1], estimation=range(3))\n",
        "    for sign2 in options_by_signs2:\n",
        "        print('\\t', used_distribution2[0], sign2, used_distribution2[1], 'options_left=', options_by_signs2[sign2])\n",
        "        uniformity_estimation, counter3, options_by_signs3, used_distribution3 = partitioning(all_4_and_4_samples_option, options_left = options_by_signs2[sign2], estimation=range(3))\n",
        "        for sign3 in options_by_signs3:\n",
        "            print('\\t\\t', used_distribution3[0], sign3, used_distribution3[1], 'options_left=', options_by_signs3[sign3], ' <------', variants[options_by_signs3[sign3]])\n"
      ],
      "execution_count": 15,
      "outputs": [
        {
          "output_type": "stream",
          "text": [
            "[0, 1, 2, 3] < [4, 5, 6, 7] options_left= [0, 1, 2, 3, 16, 17, 18, 19]\n",
            "\t [0, 1, 2, 4] < [3, 8, 9, 10] options_left= [0, 1, 2]\n",
            "\t\t [0, 3, 4, 5] < [1, 6, 7, 8] options_left= [0]  <------ [[-1  0  0  0  0  0  0  0  0  0  0  0]]\n",
            "\t\t [0, 3, 4, 5] > [1, 6, 7, 8] options_left= [1]  <------ [[ 0 -1  0  0  0  0  0  0  0  0  0  0]]\n",
            "\t\t [0, 3, 4, 5] = [1, 6, 7, 8] options_left= [2]  <------ [[ 0  0 -1  0  0  0  0  0  0  0  0  0]]\n",
            "\t [0, 1, 2, 4] > [3, 8, 9, 10] options_left= [3, 16]\n",
            "\t\t [0, 1, 2, 3] < [5, 6, 7, 8] options_left= [3]  <------ [[ 0  0  0 -1  0  0  0  0  0  0  0  0]]\n",
            "\t\t [0, 1, 2, 3] = [5, 6, 7, 8] options_left= [16]  <------ [[0 0 0 0 1 0 0 0 0 0 0 0]]\n",
            "\t [0, 1, 2, 4] = [3, 8, 9, 10] options_left= [17, 18, 19]\n",
            "\t\t [0, 1, 2, 5] > [3, 4, 6, 8] options_left= [17]  <------ [[0 0 0 0 0 1 0 0 0 0 0 0]]\n",
            "\t\t [0, 1, 2, 5] < [3, 4, 6, 8] options_left= [18]  <------ [[0 0 0 0 0 0 1 0 0 0 0 0]]\n",
            "\t\t [0, 1, 2, 5] = [3, 4, 6, 8] options_left= [19]  <------ [[0 0 0 0 0 0 0 1 0 0 0 0]]\n",
            "[0, 1, 2, 3] > [4, 5, 6, 7] options_left= [4, 5, 6, 7, 12, 13, 14, 15]\n",
            "\t [0, 1, 2, 4] < [3, 8, 9, 10] options_left= [4, 15]\n",
            "\t\t [0, 1, 2, 3] = [5, 6, 7, 8] options_left= [4]  <------ [[ 0  0  0  0 -1  0  0  0  0  0  0  0]]\n",
            "\t\t [0, 1, 2, 3] > [5, 6, 7, 8] options_left= [15]  <------ [[0 0 0 1 0 0 0 0 0 0 0 0]]\n",
            "\t [0, 1, 2, 4] = [3, 8, 9, 10] options_left= [5, 6, 7]\n",
            "\t\t [0, 1, 2, 5] < [3, 4, 6, 8] options_left= [5]  <------ [[ 0  0  0  0  0 -1  0  0  0  0  0  0]]\n",
            "\t\t [0, 1, 2, 5] > [3, 4, 6, 8] options_left= [6]  <------ [[ 0  0  0  0  0  0 -1  0  0  0  0  0]]\n",
            "\t\t [0, 1, 2, 5] = [3, 4, 6, 8] options_left= [7]  <------ [[ 0  0  0  0  0  0  0 -1  0  0  0  0]]\n",
            "\t [0, 1, 2, 4] > [3, 8, 9, 10] options_left= [12, 13, 14]\n",
            "\t\t [0, 3, 4, 5] > [1, 6, 7, 8] options_left= [12]  <------ [[1 0 0 0 0 0 0 0 0 0 0 0]]\n",
            "\t\t [0, 3, 4, 5] < [1, 6, 7, 8] options_left= [13]  <------ [[0 1 0 0 0 0 0 0 0 0 0 0]]\n",
            "\t\t [0, 3, 4, 5] = [1, 6, 7, 8] options_left= [14]  <------ [[0 0 1 0 0 0 0 0 0 0 0 0]]\n",
            "[0, 1, 2, 3] = [4, 5, 6, 7] options_left= [8, 9, 10, 11, 20, 21, 22, 23]\n",
            "\t [0, 1, 2, 3] > [4, 8, 9, 10] options_left= [8, 9, 10]\n",
            "\t\t [0, 1, 2, 8] < [3, 4, 5, 9] options_left= [8]  <------ [[ 0  0  0  0  0  0  0  0 -1  0  0  0]]\n",
            "\t\t [0, 1, 2, 8] > [3, 4, 5, 9] options_left= [9]  <------ [[ 0  0  0  0  0  0  0  0  0 -1  0  0]]\n",
            "\t\t [0, 1, 2, 8] = [3, 4, 5, 9] options_left= [10]  <------ [[ 0  0  0  0  0  0  0  0  0  0 -1  0]]\n",
            "\t [0, 1, 2, 3] = [4, 8, 9, 10] options_left= [11, 23]\n",
            "\t\t [0, 1, 2, 3] > [4, 5, 6, 11] options_left= [11]  <------ [[ 0  0  0  0  0  0  0  0  0  0  0 -1]]\n",
            "\t\t [0, 1, 2, 3] < [4, 5, 6, 11] options_left= [23]  <------ [[0 0 0 0 0 0 0 0 0 0 0 1]]\n",
            "\t [0, 1, 2, 3] < [4, 8, 9, 10] options_left= [20, 21, 22]\n",
            "\t\t [0, 1, 2, 8] > [3, 4, 5, 9] options_left= [20]  <------ [[0 0 0 0 0 0 0 0 1 0 0 0]]\n",
            "\t\t [0, 1, 2, 8] < [3, 4, 5, 9] options_left= [21]  <------ [[0 0 0 0 0 0 0 0 0 1 0 0]]\n",
            "\t\t [0, 1, 2, 8] = [3, 4, 5, 9] options_left= [22]  <------ [[0 0 0 0 0 0 0 0 0 0 1 0]]\n"
          ],
          "name": "stdout"
        }
      ]
    },
    {
      "cell_type": "code",
      "metadata": {
        "id": "rGz6HrpIr8dB",
        "colab_type": "code",
        "colab": {}
      },
      "source": [
        ""
      ],
      "execution_count": 0,
      "outputs": []
    }
  ]
}